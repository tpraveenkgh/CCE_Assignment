{
  "cells": [
    {
      "cell_type": "markdown",
      "metadata": {
        "id": "view-in-github",
        "colab_type": "text"
      },
      "source": [
        "<a href=\"https://colab.research.google.com/github/tpraveenkgh/CCE_Assignment/blob/main/Copy_of_Linear_Algebra.ipynb\" target=\"_parent\"><img src=\"https://colab.research.google.com/assets/colab-badge.svg\" alt=\"Open In Colab\"/></a>"
      ]
    },
    {
      "cell_type": "markdown",
      "metadata": {
        "id": "mkAMMOXCr1XZ"
      },
      "source": [
        "## Linear Algebra and Calculus Assignment\n",
        "##### Introduction\n",
        "This assignment covers three main topics: Linear Algebra, Calculus, and Data Processing and visualisation techniques. You will implement Principal Component Analysis (PCA) for image compression and a basic gradient descent algorithm for linear regression. After that you will work on solving problems posed on tabular data with the help of pandas library.\n",
        "### Part 1: Linear Algebra - Principal Component Analysis (PCA)\n",
        "Problem Statement - **Implement PCA to compress a grayscale image**  \n",
        "Break down the PCA algorithm into the following steps:\n",
        "\n",
        "1. Load and preprocess the image\n",
        "2. Compute the covariance matrix\n",
        "3. Compute eigenvectors and eigenvalues\n",
        "4. Select top k eigenvectors\n",
        "5. Project the data onto the new subspace\n",
        "6. Reconstruct the compressed image\n",
        "7. Bring it all together in the main function\n",
        "\n",
        "\n",
        "<div>\n",
        "  <a href=\"https://colab.research.google.com/github/emharsha1812/CCE_Assignment/blob/main/Assignments/Linear_Algebra.ipynb\" target=\"_parent\">\n",
        "    <img src=\"https://colab.research.google.com/assets/colab-badge.svg\" alt=\"Open In Colab\"/>\n",
        "  </a>\n",
        "</div>"
      ]
    },
    {
      "cell_type": "code",
      "source": [],
      "metadata": {
        "id": "12eqiHHPr3s9"
      },
      "execution_count": null,
      "outputs": []
    },
    {
      "cell_type": "markdown",
      "metadata": {
        "id": "brhTU2WXr1Xa"
      },
      "source": [
        "### 1.0 Loading and preprocessing the image  \n",
        "\n",
        "**Already Done**  Load a grayscale image using an appropriate library  \n",
        "**Already Done**: Reshape the image into a 2D array where each row represents a pixel"
      ]
    },
    {
      "cell_type": "code",
      "execution_count": 13,
      "metadata": {
        "id": "5yrCHodwr1Xa",
        "outputId": "73f0d0f4-562b-4d2c-f6f5-7efefc9b6836",
        "colab": {
          "base_uri": "https://localhost:8080/",
          "height": 970
        }
      },
      "outputs": [
        {
          "output_type": "stream",
          "name": "stdout",
          "text": [
            "[[-4.88416458 -4.88416458  0.11583542 ... -4.88416458 -4.88416458\n",
            "  -4.88416458]\n",
            " [-4.88416458 -4.88416458 -4.88416458 ...  5.11583542 -4.88416458\n",
            "  -4.88416458]\n",
            " [-4.88416458 -4.88416458 -4.88416458 ... 11.11583542  4.11583542\n",
            "  -4.88416458]\n",
            " ...\n",
            " [-4.88416458 -4.88416458 -3.88416458 ...  1.11583542 -4.88416458\n",
            "  -4.88416458]\n",
            " [-4.88416458 -4.88416458 -2.88416458 ...  7.11583542 -4.88416458\n",
            "  -4.88416458]\n",
            " [-4.88416458 -4.88416458  5.11583542 ...  7.11583542 -3.88416458\n",
            "  -4.88416458]]\n",
            "8.995463126623417e-17\n",
            "[[ 1.08047296e-26  1.56296642e-26  8.41976368e-28 ... -6.21587255e-27\n",
            "  -7.80807145e-28  1.58261872e-26]\n",
            " [ 1.56296642e-26  8.22997498e-01  2.40099498e+00 ... -1.59895297e-01\n",
            "   9.85142275e-02 -7.40618180e-02]\n",
            " [ 8.41976368e-28  2.40099498e+00  2.26083735e+01 ... -1.15544033e+00\n",
            "   1.41203571e+00  7.29880474e-01]\n",
            " ...\n",
            " [-6.21587255e-27 -1.59895297e-01 -1.15544033e+00 ...  3.48173484e+01\n",
            "   1.56485444e+01  2.87558266e+00]\n",
            " [-7.80807145e-28  9.85142275e-02  1.41203571e+00 ...  1.56485444e+01\n",
            "   1.67325820e+01  4.72078588e+00]\n",
            " [ 1.58261872e-26 -7.40618180e-02  7.29880474e-01 ...  2.87558266e+00\n",
            "   4.72078588e+00  3.46005282e+00]]\n"
          ]
        },
        {
          "output_type": "display_data",
          "data": {
            "text/plain": [
              "<Figure size 640x480 with 1 Axes>"
            ],
            "image/png": "[encoded data removed]"
          },
          "metadata": {}
        },
        {
          "output_type": "stream",
          "name": "stdout",
          "text": [
            "Original image shape: (8, 8)\n",
            "Total number of pixels: 64\n"
          ]
        }
      ],
      "source": [
        "# IMP - We've provided the code to load and preprocess the image data. You don't need to modify this section.\n",
        "\n",
        "import numpy as np\n",
        "import matplotlib.pyplot as plt\n",
        "from sklearn.datasets import load_digits\n",
        "from numpy.linalg import eig\n",
        "\n",
        "# Load the digits dataset\n",
        "digits = load_digits()\n",
        "X = digits.data\n",
        "X1 = digits.data\n",
        "\n",
        "\n",
        "#print(X)\n",
        "#print(X.mean())\n",
        "\n",
        "\n",
        "\n",
        "# Reshape the first image\n",
        "image = X[0].reshape(8, 8)\n",
        "\n",
        "\n",
        "# Display the original image\n",
        "plt.imshow(image, cmap='gray')\n",
        "plt.title('Original Image')\n",
        "plt.show()\n",
        "\n",
        "print(f\"Original image shape: {image.shape}\")\n",
        "print(f\"Total number of pixels: {image.size}\")"
      ]
    },
    {
      "cell_type": "markdown",
      "metadata": {
        "id": "2n2CsRHyr1Xb"
      },
      "source": [
        "### 1.1 Compute the covariance matrix\n",
        "\n",
        "**TODO**: Center the data by subtracting the mean of each feature  \n",
        "**TODO**: Compute the covariance matrix of the centered data"
      ]
    },
    {
      "cell_type": "code",
      "execution_count": 54,
      "metadata": {
        "id": "iC4R5gJyr1Xb"
      },
      "outputs": [],
      "source": [
        "# 1.1 Compute the covariance matrix\n",
        "def compute_covariance_matrix(X):\n",
        "    \"\"\"\n",
        "    Compute the covariance matrix for the input data.\n",
        "\n",
        "    Args:\n",
        "    X (numpy.ndarray): Input data matrix\n",
        "\n",
        "    Returns:\n",
        "    numpy.ndarray: Covariance matrix\n",
        "    \"\"\"\n",
        "    # TODO: Implement the covariance matrix calculation\n",
        "    # Hint: Remember to center the data by subtracting the mean\n",
        "    # Avoid division by zero by adding a small epsilon value\n",
        "    center_function = lambda X: X - X.mean()\n",
        "    data_centered = center_function(X)\n",
        "    epsilon = 1e-8\n",
        "    epsilon_matrix = np.eye(data_centered.shape[1]) * epsilon\n",
        "    cov_X = np.cov(data_centered.T) + epsilon_matrix\n",
        "    return cov_X\n",
        "    #pass\n"
      ]
    },
    {
      "cell_type": "markdown",
      "metadata": {
        "id": "o2_ZAEXzr1Xb"
      },
      "source": [
        "\n",
        "### 1.2 Compute eigenvectors and eigenvalues\n",
        "\n",
        "**TODO**: Implement a function to compute eigenvectors and eigenvalues of the covariance matrix  \n",
        "**Hint**: You can use NumPy's linalg.eig function, but try to implement it yourself for learning purposes"
      ]
    },
    {
      "cell_type": "code",
      "execution_count": 82,
      "metadata": {
        "id": "6BimztkHr1Xb"
      },
      "outputs": [],
      "source": [
        "# 1.2 Compute eigenvectors and eigenvalues\n",
        "def compute_eigenvectors_eigenvalues(cov_matrix):\n",
        "    \"\"\"\n",
        "    Compute the eigenvectors and eigenvalues of the covariance matrix.\n",
        "\n",
        "    Args:\n",
        "    cov_matrix (numpy.ndarray): Covariance matrix\n",
        "\n",
        "    Returns:\n",
        "    tuple: (eigenvalues, eigenvectors)\n",
        "    \"\"\"\n",
        "    epsilon = 1e-10\n",
        "    eval, evec = np.linalg.eigh(cov_matrix)\n",
        "    evec = evec.astype(np.float64)\n",
        "    return eval,evec+epsilon\n",
        "\n",
        "    #w, v = np.linalg.eig(cov_matrix)\n",
        "    #print(w)\n",
        "    # print(v)\n",
        "    # TODO: Implement eigenvector and eigenvalue calculation\n",
        "    # Hint: Use numpy.linalg.eigh() for symmetric matrices\n",
        "    #pass"
      ]
    },
    {
      "cell_type": "markdown",
      "metadata": {
        "id": "-onVOw2gr1Xb"
      },
      "source": [
        "\n",
        "### 1.3 Select top k eigenvectors\n",
        "\n",
        "**TODO**: Implement a function to select the top k eigenvectors based on their corresponding eigenvalues  \n",
        "**TODO**: Create a projection matrix using these eigenvectors"
      ]
    },
    {
      "cell_type": "code",
      "execution_count": 83,
      "metadata": {
        "id": "WpGcAsgUr1Xb"
      },
      "outputs": [],
      "source": [
        "# 1.3 Select top k eigenvectors\n",
        "def select_top_k_eigenvectors(eigenvalues, eigenvectors, k):\n",
        "    \"\"\"\n",
        "    Select the top k eigenvectors based on eigenvalues.\n",
        "\n",
        "    Args:\n",
        "    eigenvalues (numpy.ndarray): Array of eigenvalues\n",
        "    eigenvectors (numpy.ndarray): Matrix of eigenvectors\n",
        "    k (int): Number of top eigenvectors to select\n",
        "\n",
        "    Returns:\n",
        "    numpy.ndarray: Top k eigenvectors\n",
        "    \"\"\"\n",
        "    # TODO: Implement the selection of top k eigenvectors\n",
        "    # Hint: Sort eigenvalues and select corresponding eigenvectors\n",
        "\n",
        "    sorted_indices = np.argsort(eigenvalues) [::-1]\n",
        "    eigenvalues = eigenvalues[sorted_indices]\n",
        "    eigenvectors = eigenvectors[:,sorted_indices]\n",
        "\n",
        "    # Select the top k eigenvectors\n",
        "\n",
        "    top_k_eigenvectors = eigenvectors[:, :k]\n",
        "    return top_k_eigenvectors\n",
        "    #pass"
      ]
    },
    {
      "cell_type": "markdown",
      "metadata": {
        "id": "caSyCbBkr1Xc"
      },
      "source": [
        "\n",
        "### 1.4 Project the data onto the new subspace\n",
        "\n",
        "**TODO**: Project the centered data onto the new subspace defined by the top k eigenvectors  "
      ]
    },
    {
      "cell_type": "code",
      "execution_count": 49,
      "metadata": {
        "id": "Ga_6lHZGr1Xc"
      },
      "outputs": [],
      "source": [
        "# 1.4 Project the data onto the new subspace\n",
        "def project_data(X, eigenvectors):\n",
        "    \"\"\"\n",
        "    Project the data onto the new subspace defined by the eigenvectors.\n",
        "\n",
        "    Args:\n",
        "    X (numpy.ndarray): Input data matrix\n",
        "    eigenvectors (numpy.ndarray): Matrix of selected eigenvectors\n",
        "\n",
        "    Returns:\n",
        "    numpy.ndarray: Projected data\n",
        "    \"\"\"\n",
        "    # TODO: Implement the data projection\n",
        "    # Hint: Center the data and then project it onto the eigenvectors\n",
        "    data_mean = np.mean(X)\n",
        "    data_centered = X - data_mean\n",
        "\n",
        "    projected_data = np.dot(data_centered, eigenvectors)\n",
        "    return projected_data\n",
        "\n",
        "    #pass"
      ]
    },
    {
      "cell_type": "code",
      "source": [],
      "metadata": {
        "id": "UO4Q2zfVAL14"
      },
      "execution_count": null,
      "outputs": []
    },
    {
      "cell_type": "markdown",
      "metadata": {
        "id": "3jG6ZqUAr1Xc"
      },
      "source": [
        "### 1.5 Reconstruct the compressed image\n",
        "\n",
        "**TODO**: Implement a function to reconstruct the compressed image from the projected data  "
      ]
    },
    {
      "cell_type": "code",
      "execution_count": 87,
      "metadata": {
        "id": "R8HPD4vir1Xc"
      },
      "outputs": [],
      "source": [
        "\n",
        "# 1.5 Reconstruct the compressed image\n",
        "def reconstruct_image(X_projected, top_k_eigenvectors, original_mean):\n",
        "    \"\"\"\n",
        "    Reconstruct the compressed image from the projected data.\n",
        "\n",
        "    Args:\n",
        "    X_projected (numpy.ndarray): Projected data\n",
        "    eigenvectors (numpy.ndarray): Matrix of selected eigenvectors\n",
        "    original_mean (numpy.ndarray): Mean of the original data\n",
        "\n",
        "    Returns:\n",
        "    numpy.ndarray: Reconstructed data\n",
        "    \"\"\"\n",
        "    # TODO: Implement the image reconstruction\n",
        "    # Hint: Project back to the original space and add the mean\n",
        "    reconstructed_centered_data = np.dot(X_projected,top_k_eigenvectors.T)\n",
        "    reconstructed_data = reconstructed_centered_data + original_mean\n",
        "    return reconstructed_data\n",
        "    #pass"
      ]
    },
    {
      "cell_type": "markdown",
      "metadata": {
        "id": "EJZ0ndWWr1Xc"
      },
      "source": [
        "### 1.6 Complete the main function"
      ]
    },
    {
      "cell_type": "code",
      "execution_count": 85,
      "metadata": {
        "id": "gGGFTaEjr1Xc"
      },
      "outputs": [],
      "source": [
        "# Main PCA function\n",
        "def perform_pca(X, k):\n",
        "    \"\"\"\n",
        "    Perform PCA on the input data.\n",
        "\n",
        "    Args:\n",
        "    X (numpy.ndarray): Input data matrix\n",
        "    k (int): Number of principal components to keep\n",
        "\n",
        "    Returns:\n",
        "    tuple: (compressed_data, reconstructed_data, eigenvectors)\n",
        "    \"\"\"\n",
        "\n",
        "    original_mean = np.mean(X, axis=0)\n",
        " #   print(original_mean)\n",
        "    # TODO: Implement the main PCA function using the helper functions above\n",
        "    # 1. Compute the covariance matrix\n",
        "    cov_matrix = compute_covariance_matrix(X)\n",
        "    # print(f\"Covariance matrix123: {cov_matrix}\")\n",
        "    # 2. Compute eigenvectors and eigenvalues\n",
        "    eigenvalues, eigenvectors = compute_eigenvectors_eigenvalues(cov_matrix)\n",
        "    print(f\"Eigenvalues: {eigenvalues}\")\n",
        "    print(f\"Eigenvectors: {eigenvectors}\")\n",
        "    # 3. Select top k eigenvectors\n",
        "    top_k_eigenvectors = select_top_k_eigenvectors(eigenvalues, eigenvectors, k)\n",
        "  #  print(f\"Top k eigenvectors: {top_k_eigenvectors}\") # Print statement to check output\n",
        "    # 4. Project the data\n",
        "    projected_data = project_data(X, eigenvectors=top_k_eigenvectors)\n",
        "    print(f\"Projected data: {projected_data}\")\n",
        "    # 5. Reconstruct the data\n",
        "    reconstructed_data = reconstruct_image(projected_data, top_k_eigenvectors, original_mean)\n",
        "    return projected_data, reconstructed_data, eigenvectors\n",
        "    #pass"
      ]
    },
    {
      "cell_type": "code",
      "execution_count": 90,
      "metadata": {
        "id": "3Mj_DcDar1Xc",
        "colab": {
          "base_uri": "https://localhost:8080/",
          "height": 1000
        },
        "outputId": "6df23f98-55e9-4818-e1b6-f10c2f97f1d4"
      },
      "outputs": [
        {
          "output_type": "stream",
          "name": "stdout",
          "text": [
            "Eigenvalues: [1.00000000e-08 1.00000005e-08 1.00000029e-08 4.12233305e-04\n",
            " 6.61280906e-04 1.27706113e-03 3.62366957e-03 8.47308261e-03\n",
            " 1.49505736e-02 3.96662397e-02 6.07377681e-02 6.31307948e-02\n",
            " 9.91528044e-02 2.52350442e-01 4.86065227e-01 6.69850604e-01\n",
            " 9.31220018e-01 1.15893420e+00 1.29221889e+00 1.40197221e+00\n",
            " 1.68996440e+00 1.81716570e+00 1.90724230e+00 2.28298745e+00\n",
            " 2.54170564e+00 2.67210897e+00 2.73780003e+00 3.08457410e+00\n",
            " 3.53165307e+00 3.70647246e+00 3.94340335e+00 4.04743884e+00\n",
            " 4.24687800e+00 4.49129657e+00 5.15586691e+00 5.88499124e+00\n",
            " 6.19295509e+00 6.91973882e+00 7.16577962e+00 8.36561191e+00\n",
            " 8.69036873e+00 9.22640261e+00 9.58259780e+00 1.06935663e+01\n",
            " 1.08868593e+01 1.22344732e+01 1.50044602e+01 1.58513899e+01\n",
            " 1.69468639e+01 1.76367222e+01 2.13243566e+01 2.19014881e+01\n",
            " 2.73211698e+01 2.85190412e+01 3.70117984e+01 4.03109953e+01\n",
            " 4.40151067e+01 5.18845391e+01 5.91085249e+01 6.95131656e+01\n",
            " 1.01100375e+02 1.41788439e+02 1.63717747e+02 1.79006930e+02]\n",
            "Eigenvectors: [[ 1.00000000e+00  1.00000000e-10  1.00000000e-10 ...  1.00000000e-10\n",
            "   1.00000000e-10  1.00000000e-10]\n",
            " [ 1.00000000e-10  9.99947032e-11  9.99526212e-11 ...  1.83420721e-02\n",
            "   1.01064570e-02  1.73094652e-02]\n",
            " [ 1.00000000e-10  1.00001097e-10  9.99961281e-11 ...  1.26475543e-01\n",
            "   4.90849205e-02  2.23428835e-01]\n",
            " ...\n",
            " [ 1.00000000e-10  1.00000572e-10  9.99993044e-11 ...  2.32084163e-01\n",
            "  -1.76697117e-01  8.94184678e-02]\n",
            " [ 1.00000000e-10  9.99993805e-11  1.00000608e-10 ...  1.67026563e-01\n",
            "  -1.94547052e-02  3.65977112e-02]\n",
            " [ 1.00000000e-10  9.99997280e-11  9.99989175e-11 ...  3.48043833e-02\n",
            "   6.69693905e-03  1.14684955e-02]]\n",
            "Projected data: [[  1.30825239 -18.73371866  -7.2278874  -10.96760018]\n",
            " [ -7.90882535  23.30986377   6.67467325  16.94025295]\n",
            " [ -6.94313702  12.49715123   5.1937253   14.33489095]\n",
            " ...\n",
            " [-10.75249774   9.50141706   7.83472175   9.27432199]\n",
            " [  4.92088604  -9.8827888   -7.93569914   8.71543901]\n",
            " [  0.39317558  -3.82438437  13.00887571   9.77280173]]\n"
          ]
        },
        {
          "output_type": "display_data",
          "data": {
            "text/plain": [
              "<Figure size 1000x500 with 2 Axes>"
            ],
            "image/png": "[encoded data removed]"
          },
          "metadata": {}
        },
        {
          "output_type": "execute_result",
          "data": {
            "text/plain": [
              "\"\\ncov_matrix = compute_covariance_matrix(X)\\neigenvalues, eigenvectors  = compute_eigenvectors_eigenvalues(cov_matrix)\\nevr = explained_variance_ratio(eigenvalues)\\ncumulative_evr = np.cumsum(evr)\\n\\nplt.plot(range(1, len(cumulative_evr) + 1), cumulative_evr)\\nplt.xlabel('Number of Components')\\nplt.ylabel('Cumulative Explained Variance Ratio')\\nplt.title('Explained Variance Ratio vs. Number of Components')\\nplt.show()\\n\""
            ],
            "application/vnd.google.colaboratory.intrinsic+json": {
              "type": "string"
            }
          },
          "metadata": {},
          "execution_count": 90
        }
      ],
      "source": [
        "import numpy as np\n",
        "import matplotlib.pyplot as plt\n",
        "from sklearn.datasets import load_digits\n",
        "from numpy.linalg import eig\n",
        "\n",
        "# Test the implementation\n",
        "k = 4\n",
        "\n",
        "# Number of principal components to keep\n",
        "digits = load_digits()\n",
        "X = digits.data\n",
        "\n",
        "compressed_data, reconstructed_data, eigenvectors = perform_pca(X, k)\n",
        "\n",
        "# Visualize the result\n",
        "\n",
        "plt.figure(figsize=(10, 5))\n",
        "plt.subplot(1, 2, 1)\n",
        "plt.imshow(X[0].reshape(8, 8), cmap='gray')\n",
        "plt.title('Original Image')\n",
        "plt.subplot(1, 2, 2)\n",
        "plt.imshow(reconstructed_data[0].reshape(8, 8), cmap='gray')\n",
        "plt.title(f'Reconstructed Image (k={k})')\n",
        "plt.show()\n",
        "## Bonus: Determine optimal number of principal components\n",
        "\n",
        "def explained_variance_ratio(eigenvalues):\n",
        "    return eigenvalues / np.sum(eigenvalues)\n",
        "\n",
        "# Plot the cumulative explained variance ratio vs. number of components\n",
        "\"\"\"\n",
        "cov_matrix = compute_covariance_matrix(X)\n",
        "eigenvalues, eigenvectors  = compute_eigenvectors_eigenvalues(cov_matrix)\n",
        "evr = explained_variance_ratio(eigenvalues)\n",
        "cumulative_evr = np.cumsum(evr)\n",
        "\n",
        "plt.plot(range(1, len(cumulative_evr) + 1), cumulative_evr)\n",
        "plt.xlabel('Number of Components')\n",
        "plt.ylabel('Cumulative Explained Variance Ratio')\n",
        "plt.title('Explained Variance Ratio vs. Number of Components')\n",
        "plt.show()\n",
        "\"\"\""
      ]
    }
  ],
  "metadata": {
    "kernelspec": {
      "display_name": "Python 3",
      "language": "python",
      "name": "python3"
    },
    "language_info": {
      "codemirror_mode": {
        "name": "ipython",
        "version": 3
      },
      "file_extension": ".py",
      "mimetype": "text/x-python",
      "name": "python",
      "nbconvert_exporter": "python",
      "pygments_lexer": "ipython3",
      "version": "3.10.12"
    },
    "colab": {
      "provenance": [],
      "include_colab_link": true
    }
  },
  "nbformat": 4,
  "nbformat_minor": 0
}