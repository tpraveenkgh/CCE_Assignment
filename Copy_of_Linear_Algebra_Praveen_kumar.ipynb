{
  "cells": [
    {
      "cell_type": "markdown",
      "metadata": {
        "id": "view-in-github",
        "colab_type": "text"
      },
      "source": [
        "<a href=\"https://colab.research.google.com/github/tpraveenkgh/CCE_Assignment/blob/main/Copy_of_Linear_Algebra_Praveen_kumar.ipynb\" target=\"_parent\"><img src=\"https://colab.research.google.com/assets/colab-badge.svg\" alt=\"Open In Colab\"/></a>"
      ]
    },
    {
      "cell_type": "markdown",
      "metadata": {
        "id": "mkAMMOXCr1XZ"
      },
      "source": [
        "## Linear Algebra and Calculus Assignment\n",
        "##### Introduction\n",
        "This assignment covers three main topics: Linear Algebra, Calculus, and Data Processing and visualisation techniques. You will implement Principal Component Analysis (PCA) for image compression and a basic gradient descent algorithm for linear regression. After that you will work on solving problems posed on tabular data with the help of pandas library.\n",
        "### Part 1: Linear Algebra - Principal Component Analysis (PCA)\n",
        "Problem Statement - **Implement PCA to compress a grayscale image**  \n",
        "Break down the PCA algorithm into the following steps:\n",
        "\n",
        "1. Load and preprocess the image\n",
        "2. Compute the covariance matrix\n",
        "3. Compute eigenvectors and eigenvalues\n",
        "4. Select top k eigenvectors\n",
        "5. Project the data onto the new subspace\n",
        "6. Reconstruct the compressed image\n",
        "7. Bring it all together in the main function\n",
        "\n",
        "\n",
        "<div>\n",
        "  <a href=\"https://colab.research.google.com/github/emharsha1812/CCE_Assignment/blob/main/Assignments/Linear_Algebra.ipynb\" target=\"_parent\">\n",
        "    <img src=\"https://colab.research.google.com/assets/colab-badge.svg\" alt=\"Open In Colab\"/>\n",
        "  </a>\n",
        "</div>"
      ]
    },
    {
      "cell_type": "code",
      "source": [],
      "metadata": {
        "id": "12eqiHHPr3s9"
      },
      "execution_count": null,
      "outputs": []
    },
    {
      "cell_type": "markdown",
      "metadata": {
        "id": "brhTU2WXr1Xa"
      },
      "source": [
        "### 1.0 Loading and preprocessing the image  \n",
        "\n",
        "**Already Done**  Load a grayscale image using an appropriate library  \n",
        "**Already Done**: Reshape the image into a 2D array where each row represents a pixel"
      ]
    },
    {
      "cell_type": "code",
      "execution_count": 1,
      "metadata": {
        "id": "5yrCHodwr1Xa",
        "outputId": "41dd9f50-ea18-42e8-858b-e4a3288ef169",
        "colab": {
          "base_uri": "https://localhost:8080/",
          "height": 488
        }
      },
      "outputs": [
        {
          "output_type": "display_data",
          "data": {
            "text/plain": [
              "<Figure size 640x480 with 1 Axes>"
            ],
            "image/png": "[encoded data removed]"
          },
          "metadata": {}
        },
        {
          "output_type": "stream",
          "name": "stdout",
          "text": [
            "Original image shape: (8, 8)\n",
            "Total number of pixels: 64\n"
          ]
        }
      ],
      "source": [
        "# IMP - We've provided the code to load and preprocess the image data. You don't need to modify this section.\n",
        "\n",
        "import numpy as np\n",
        "import matplotlib.pyplot as plt\n",
        "from sklearn.datasets import load_digits\n",
        "from numpy.linalg import eig\n",
        "\n",
        "# Load the digits dataset\n",
        "digits = load_digits()\n",
        "X = digits.data\n",
        "X1 = digits.data\n",
        "\n",
        "\n",
        "#print(X)\n",
        "#print(X.mean())\n",
        "\n",
        "\n",
        "\n",
        "# Reshape the first image\n",
        "image = X[0].reshape(8, 8)\n",
        "\n",
        "\n",
        "# Display the original image\n",
        "plt.imshow(image, cmap='gray')\n",
        "plt.title('Original Image')\n",
        "plt.show()\n",
        "\n",
        "print(f\"Original image shape: {image.shape}\")\n",
        "print(f\"Total number of pixels: {image.size}\")"
      ]
    },
    {
      "cell_type": "markdown",
      "metadata": {
        "id": "2n2CsRHyr1Xb"
      },
      "source": [
        "### 1.1 Compute the covariance matrix\n",
        "\n",
        "**TODO**: Center the data by subtracting the mean of each feature  \n",
        "**TODO**: Compute the covariance matrix of the centered data"
      ]
    },
    {
      "cell_type": "code",
      "execution_count": 2,
      "metadata": {
        "id": "iC4R5gJyr1Xb"
      },
      "outputs": [],
      "source": [
        "# 1.1 Compute the covariance matrix\n",
        "def compute_covariance_matrix(X):\n",
        "    \"\"\"\n",
        "    Compute the covariance matrix for the input data.\n",
        "\n",
        "    Args:\n",
        "    X (numpy.ndarray): Input data matrix\n",
        "\n",
        "    Returns:\n",
        "    numpy.ndarray: Covariance matrix\n",
        "    \"\"\"\n",
        "    # TODO: Implement the covariance matrix calculation\n",
        "    # Hint: Remember to center the data by subtracting the mean\n",
        "    # Avoid division by zero by adding a small epsilon value\n",
        "    center_function = lambda X: X - X.mean()\n",
        "    data_centered = center_function(X)\n",
        "    epsilon = 1e-8\n",
        "    #print(data_centered.shape[0])\n",
        "    epsilon_matrix = np.eye(data_centered.shape[1]) * epsilon\n",
        "    cov_X = np.dot(data_centered.T, data_centered) / (data_centered.shape[0] - 1) + epsilon_matrix\n",
        "    #cov_X = np.cov(data_centered.T) + epsilon_matrix\n",
        "    return cov_X\n",
        "    #pass\n"
      ]
    },
    {
      "cell_type": "markdown",
      "metadata": {
        "id": "o2_ZAEXzr1Xb"
      },
      "source": [
        "\n",
        "### 1.2 Compute eigenvectors and eigenvalues\n",
        "\n",
        "**TODO**: Implement a function to compute eigenvectors and eigenvalues of the covariance matrix  \n",
        "**Hint**: You can use NumPy's linalg.eig function, but try to implement it yourself for learning purposes"
      ]
    },
    {
      "cell_type": "code",
      "execution_count": 3,
      "metadata": {
        "id": "6BimztkHr1Xb"
      },
      "outputs": [],
      "source": [
        "# 1.2 Compute eigenvectors and eigenvalues\n",
        "def compute_eigenvectors_eigenvalues(cov_matrix):\n",
        "    \"\"\"\n",
        "    Compute the eigenvectors and eigenvalues of the covariance matrix.\n",
        "\n",
        "    Args:\n",
        "    cov_matrix (numpy.ndarray): Covariance matrix\n",
        "\n",
        "    Returns:\n",
        "    tuple: (eigenvalues, eigenvectors)\n",
        "    \"\"\"\n",
        "    epsilon = 1e-10\n",
        "    eval, evec = np.linalg.eigh(cov_matrix)\n",
        "    evec = evec.astype(np.float64)\n",
        "    return eval,evec+epsilon\n",
        "\n",
        "    #w, v = np.linalg.eig(cov_matrix)\n",
        "    #print(w)\n",
        "    # print(v)\n",
        "    # TODO: Implement eigenvector and eigenvalue calculation\n",
        "    # Hint: Use numpy.linalg.eigh() for symmetric matrices\n",
        "    #pass"
      ]
    },
    {
      "cell_type": "markdown",
      "metadata": {
        "id": "-onVOw2gr1Xb"
      },
      "source": [
        "\n",
        "### 1.3 Select top k eigenvectors\n",
        "\n",
        "**TODO**: Implement a function to select the top k eigenvectors based on their corresponding eigenvalues  \n",
        "**TODO**: Create a projection matrix using these eigenvectors"
      ]
    },
    {
      "cell_type": "code",
      "execution_count": 4,
      "metadata": {
        "id": "WpGcAsgUr1Xb"
      },
      "outputs": [],
      "source": [
        "# 1.3 Select top k eigenvectors\n",
        "def select_top_k_eigenvectors(eigenvalues, eigenvectors, k):\n",
        "    \"\"\"\n",
        "    Select the top k eigenvectors based on eigenvalues.\n",
        "\n",
        "    Args:\n",
        "    eigenvalues (numpy.ndarray): Array of eigenvalues\n",
        "    eigenvectors (numpy.ndarray): Matrix of eigenvectors\n",
        "    k (int): Number of top eigenvectors to select\n",
        "\n",
        "    Returns:\n",
        "    numpy.ndarray: Top k eigenvectors\n",
        "    \"\"\"\n",
        "    # TODO: Implement the selection of top k eigenvectors\n",
        "    # Hint: Sort eigenvalues and select corresponding eigenvectors\n",
        "\n",
        "    sorted_indices = np.argsort(eigenvalues) [::-1]\n",
        "    eigenvalues = eigenvalues[sorted_indices]\n",
        "    eigenvectors = eigenvectors[:,sorted_indices]\n",
        "\n",
        "    # Select the top k eigenvectors\n",
        "\n",
        "    top_k_eigenvectors = eigenvectors[:, :k]\n",
        "    return top_k_eigenvectors\n",
        "    #pass"
      ]
    },
    {
      "cell_type": "markdown",
      "metadata": {
        "id": "caSyCbBkr1Xc"
      },
      "source": [
        "\n",
        "### 1.4 Project the data onto the new subspace\n",
        "\n",
        "**TODO**: Project the centered data onto the new subspace defined by the top k eigenvectors  "
      ]
    },
    {
      "cell_type": "code",
      "execution_count": 5,
      "metadata": {
        "id": "Ga_6lHZGr1Xc"
      },
      "outputs": [],
      "source": [
        "# 1.4 Project the data onto the new subspace\n",
        "def project_data(X, eigenvectors):\n",
        "    \"\"\"\n",
        "    Project the data onto the new subspace defined by the eigenvectors.\n",
        "\n",
        "    Args:\n",
        "    X (numpy.ndarray): Input data matrix\n",
        "    eigenvectors (numpy.ndarray): Matrix of selected eigenvectors\n",
        "\n",
        "    Returns:\n",
        "    numpy.ndarray: Projected data\n",
        "    \"\"\"\n",
        "    # TODO: Implement the data projection\n",
        "    # Hint: Center the data and then project it onto the eigenvectors\n",
        "    data_mean = np.mean(X)\n",
        "    data_centered = X - data_mean\n",
        "\n",
        "    projected_data = np.dot(data_centered, eigenvectors)\n",
        "    return projected_data\n",
        "\n",
        "    #pass"
      ]
    },
    {
      "cell_type": "code",
      "source": [],
      "metadata": {
        "id": "UO4Q2zfVAL14"
      },
      "execution_count": null,
      "outputs": []
    },
    {
      "cell_type": "markdown",
      "metadata": {
        "id": "3jG6ZqUAr1Xc"
      },
      "source": [
        "### 1.5 Reconstruct the compressed image\n",
        "\n",
        "**TODO**: Implement a function to reconstruct the compressed image from the projected data  "
      ]
    },
    {
      "cell_type": "code",
      "execution_count": 6,
      "metadata": {
        "id": "R8HPD4vir1Xc"
      },
      "outputs": [],
      "source": [
        "\n",
        "# 1.5 Reconstruct the compressed image\n",
        "def reconstruct_image(X_projected, top_k_eigenvectors, original_mean):\n",
        "    \"\"\"\n",
        "    Reconstruct the compressed image from the projected data.\n",
        "\n",
        "    Args:\n",
        "    X_projected (numpy.ndarray): Projected data\n",
        "    eigenvectors (numpy.ndarray): Matrix of selected eigenvectors\n",
        "    original_mean (numpy.ndarray): Mean of the original data\n",
        "\n",
        "    Returns:\n",
        "    numpy.ndarray: Reconstructed data\n",
        "    \"\"\"\n",
        "    # TODO: Implement the image reconstruction\n",
        "    # Hint: Project back to the original space and add the mean\n",
        "    reconstructed_centered_data = np.dot(X_projected,top_k_eigenvectors.T)\n",
        "    reconstructed_data = reconstructed_centered_data + original_mean\n",
        "    return reconstructed_data\n",
        "    #pass"
      ]
    },
    {
      "cell_type": "markdown",
      "metadata": {
        "id": "EJZ0ndWWr1Xc"
      },
      "source": [
        "### 1.6 Complete the main function"
      ]
    },
    {
      "cell_type": "code",
      "execution_count": 7,
      "metadata": {
        "id": "gGGFTaEjr1Xc"
      },
      "outputs": [],
      "source": [
        "# Main PCA function\n",
        "def perform_pca(X, k):\n",
        "    \"\"\"\n",
        "    Perform PCA on the input data.\n",
        "\n",
        "    Args:\n",
        "    X (numpy.ndarray): Input data matrix\n",
        "    k (int): Number of principal components to keep\n",
        "\n",
        "    Returns:\n",
        "    tuple: (compressed_data, reconstructed_data, eigenvectors)\n",
        "    \"\"\"\n",
        "\n",
        "    original_mean = np.mean(X, axis=0)\n",
        " #   print(original_mean)\n",
        "    # TODO: Implement the main PCA function using the helper functions above\n",
        "    # 1. Compute the covariance matrix\n",
        "    cov_matrix = compute_covariance_matrix(X)\n",
        "    # print(f\"Covariance matrix123: {cov_matrix}\")\n",
        "    # 2. Compute eigenvectors and eigenvalues\n",
        "    eigenvalues, eigenvectors = compute_eigenvectors_eigenvalues(cov_matrix)\n",
        "    #print(f\"Eigenvalues: {eigenvalues}\")\n",
        "    #print(f\"Eigenvectors: {eigenvectors}\")\n",
        "    # 3. Select top k eigenvectors\n",
        "    top_k_eigenvectors = select_top_k_eigenvectors(eigenvalues, eigenvectors, k)\n",
        "  #  print(f\"Top k eigenvectors: {top_k_eigenvectors}\") # Print statement to check output\n",
        "    # 4. Project the data\n",
        "    projected_data = project_data(X, eigenvectors=top_k_eigenvectors)\n",
        "    #print(f\"Projected data: {projected_data}\")\n",
        "    # 5. Reconstruct the data\n",
        "    reconstructed_data = reconstruct_image(projected_data, top_k_eigenvectors, original_mean)\n",
        "    return projected_data, reconstructed_data, eigenvectors\n",
        "    #pass"
      ]
    },
    {
      "cell_type": "code",
      "execution_count": 8,
      "metadata": {
        "id": "3Mj_DcDar1Xc",
        "colab": {
          "base_uri": "https://localhost:8080/",
          "height": 890
        },
        "outputId": "82b099e0-75a1-462d-9335-77e5651af8b6"
      },
      "outputs": [
        {
          "output_type": "display_data",
          "data": {
            "text/plain": [
              "<Figure size 1000x500 with 2 Axes>"
            ],
            "image/png": "[encoded data removed]"
          },
          "metadata": {}
        },
        {
          "output_type": "display_data",
          "data": {
            "text/plain": [
              "<Figure size 640x480 with 1 Axes>"
            ],
            "image/png": "[encoded data removed]"
          },
          "metadata": {}
        }
      ],
      "source": [
        "import numpy as np\n",
        "import matplotlib.pyplot as plt\n",
        "from sklearn.datasets import load_digits\n",
        "from numpy.linalg import eig\n",
        "\n",
        "# Test the implementation\n",
        "k = 4\n",
        "\n",
        "# Number of principal components to keep\n",
        "digits = load_digits()\n",
        "X = digits.data\n",
        "\n",
        "compressed_data, reconstructed_data, eigenvectors = perform_pca(X, k)\n",
        "\n",
        "# Visualize the result\n",
        "\n",
        "plt.figure(figsize=(10, 5))\n",
        "plt.subplot(1, 2, 1)\n",
        "plt.imshow(X[0].reshape(8, 8), cmap='gray')\n",
        "plt.title('Original Image')\n",
        "plt.subplot(1, 2, 2)\n",
        "plt.imshow(reconstructed_data[0].reshape(8, 8), cmap='gray')\n",
        "plt.title(f'Reconstructed Image (k={k})')\n",
        "plt.show()\n",
        "## Bonus: Determine optimal number of principal components\n",
        "\n",
        "def explained_variance_ratio(eigenvalues):\n",
        "    return eigenvalues / np.sum(eigenvalues)\n",
        "\n",
        "# Plot the cumulative explained variance ratio vs. number of components\n",
        "\n",
        "cov_matrix = compute_covariance_matrix(X)\n",
        "eigenvalues, eigenvectors  = compute_eigenvectors_eigenvalues(cov_matrix)\n",
        "evr = explained_variance_ratio(eigenvalues)\n",
        "cumulative_evr = np.cumsum(evr)\n",
        "\n",
        "plt.plot(range(1, len(cumulative_evr) + 1), cumulative_evr)\n",
        "plt.xlabel('Number of Components')\n",
        "plt.ylabel('Cumulative Explained Variance Ratio')\n",
        "plt.title('Explained Variance Ratio vs. Number of Components')\n",
        "plt.show()\n"
      ]
    }
  ],
  "metadata": {
    "kernelspec": {
      "display_name": "Python 3",
      "language": "python",
      "name": "python3"
    },
    "language_info": {
      "codemirror_mode": {
        "name": "ipython",
        "version": 3
      },
      "file_extension": ".py",
      "mimetype": "text/x-python",
      "name": "python",
      "nbconvert_exporter": "python",
      "pygments_lexer": "ipython3",
      "version": "3.10.12"
    },
    "colab": {
      "provenance": [],
      "include_colab_link": true
    }
  },
  "nbformat": 4,
  "nbformat_minor": 0
}