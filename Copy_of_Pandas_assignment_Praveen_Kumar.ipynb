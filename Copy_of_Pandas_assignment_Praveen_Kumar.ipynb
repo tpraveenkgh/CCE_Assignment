{
  "cells": [
    {
      "cell_type": "markdown",
      "metadata": {
        "id": "view-in-github",
        "colab_type": "text"
      },
      "source": [
        "<a href=\"https://colab.research.google.com/github/tpraveenkgh/CCE_Assignment/blob/main/Copy_of_Pandas_assignment_Praveen_Kumar.ipynb\" target=\"_parent\"><img src=\"https://colab.research.google.com/assets/colab-badge.svg\" alt=\"Open In Colab\"/></a>"
      ]
    },
    {
      "cell_type": "markdown",
      "metadata": {
        "id": "lsySAbpTRtwW"
      },
      "source": [
        "### Data Exploration Exercises\n",
        "\n",
        "#### Task 1.1 - The goal of this exercise is to find the average age of celebrities who died February–July 2016\n",
        "\n",
        "<div>\n",
        "  <a href=\"https://colab.research.google.com/github/emharsha1812/CCE_Assignment/blob/main/Assignments/Pandas.ipynb\" target=\"_parent\">\n",
        "    <img src=\"https://colab.research.google.com/assets/colab-badge.svg\" alt=\"Open In Colab\"/>\n",
        "  </a>\n",
        "</div>\n",
        "\n",
        "1. Create a data frame from the file celebrity_deaths_2016.csv. For this exercise, we’ll use only two columns:\n",
        "–dateofdeath\n",
        "– age\n",
        "2. Create a new month column containing the month from the dateofdeath\n",
        "column.\n",
        "3. Make the month column the index of the data frame.\n",
        "4. Sort the data frame by the index.\n",
        "5. Clean all nonintegers from the age column.\n",
        "6. Turn the age column into an integer value.\n",
        "7. Find the average age of celebrities who died during that period"
      ]
    },
    {
      "cell_type": "code",
      "execution_count": 4,
      "metadata": {
        "id": "wTV6f1rkRtwY"
      },
      "outputs": [],
      "source": [
        "import pandas as pd\n",
        "import numpy as np\n",
        "\n",
        "# You are NOT required to change the code here\n",
        "# titanic_df=pd.read_csv('celebrity_deaths_2016.csv')\n",
        "\n",
        "titanic_df_url='https://raw.githubusercontent.com/emharsha1812/CCE_Assignment/refs/heads/main/Assignments/Assignment1/dataset/celebrity_deaths_2016.csv'\n",
        "titanic_df = pd.read_csv(titanic_df_url)\n",
        "\n",
        "def calculate_average_age(df=titanic_df):\n",
        "    #TODO- Write your code here\n",
        "    '''Arguments -\n",
        "    titanic_df = The pandas dataframe that we loaded\n",
        "\n",
        "    Returns\n",
        "    int : average_age\n",
        "    '''\n",
        "    df['age'] = pd.to_numeric(df['age'], errors='coerce')\n",
        "\n",
        "    # Calculate the average age\n",
        "    average_age = df['age'].mean()\n",
        "\n",
        "    return average_age\n",
        "    '''\n",
        "    average_age=None #Placeholder\n",
        "    return average_age\n",
        "    '''\n",
        "\n",
        "    get_average_age_ans=calculate_average_age(titanic_df)\n"
      ]
    },
    {
      "cell_type": "markdown",
      "metadata": {
        "id": "ikTR123LRtwY"
      },
      "source": [
        "### Task 1.2 - The goal of this exercise is to group the data according to the below conditions\n",
        "1. Load the CSV file nyc_taxi_2019-01.csv into a data frame using only the columns passenger_count, trip_distance, and total_amount.\n",
        "2. Using a descending sort, find the average cost of the 20 longest (in distance) taxi rides in January 2019.\n",
        "3. Using an ascending sort, find the average cost of the 20 longest (in distance) taxi rides in January 2019. Are the results any different?\n",
        "4. Sort by ascending passenger count and descending trip distance. (So, start with the longest trip with 0 passengers and end with the shortest trip with 9 passengers.) What is the average price paid for the top 50 rides?\n"
      ]
    },
    {
      "cell_type": "code",
      "execution_count": 24,
      "metadata": {
        "id": "Hbd_P5mvRtwZ",
        "colab": {
          "base_uri": "https://localhost:8080/"
        },
        "outputId": "69dfe331-d7e3-4140-bcbb-f7d757cbc153"
      },
      "outputs": [
        {
          "output_type": "stream",
          "name": "stdout",
          "text": [
            "(86.90450000000000088, 5.9054999999999998384)\n",
            "22.006400000000000485\n"
          ]
        }
      ],
      "source": [
        "\n",
        "import pandas as pd\n",
        "import numpy as np\n",
        "# filename = 'nyc_taxidataset.csv'\n",
        "filename='https://raw.githubusercontent.com/emharsha1812/CCE_Assignment/refs/heads/main/Assignments/Assignment1/dataset/nyc_taxidataset.csv'\n",
        "taxi_df = pd.read_csv(filename,usecols=['passenger_count','trip_distance','total_amount','tpep_pickup_datetime'],\n",
        "dtype={'total_amount':np.float128})\n",
        "\n",
        "\n",
        "# Task 1.2.2 & Task 1.2.3\n",
        "def get_average_cost_descending_sort(df):\n",
        "    \"\"\"Arguments- df:Dataframe\n",
        "\n",
        "    Returns\n",
        "    tuple of float - (avg_desc,avg_asc) : (rounded of two integers)\n",
        "    \"\"\"\n",
        "    january_data = taxi_df[(taxi_df['tpep_pickup_datetime'] >= '2019-01-01') & (taxi_df['tpep_pickup_datetime'] < '2019-02-01')]\n",
        "    sorted_data_desc = january_data.sort_values(by='trip_distance', ascending=False)\n",
        "    sorted_data_asc = january_data.sort_values(by='trip_distance', ascending=True)\n",
        "\n",
        "    # Select the top 20 longest rides\n",
        "    top_20_longest_rides = sorted_data_desc.head(20)\n",
        "    top_20_shortest_rides = sorted_data_asc.head(20)\n",
        "\n",
        "    # Calculate the average cost of the top 20 longest rides\n",
        "    avg_desc = top_20_longest_rides['total_amount'].mean()\n",
        "    avg_asc = top_20_shortest_rides['total_amount'].mean()\n",
        "    return (avg_desc,avg_asc)\n",
        "\n",
        "def get_price_top50_rides(df):\n",
        "    \"\"\"Arguments df:Dataframe\n",
        "    Returns\n",
        "    float - rounded to two integers\n",
        "    \"\"\"\n",
        "    sorted_df = taxi_df.sort_values(by=['passenger_count', 'trip_distance'], ascending=[True, False])\n",
        "\n",
        "\n",
        "# Print the sorted DataFrame (or work with the sorted data)\n",
        "    top_50_rides = sorted_df.head(50)\n",
        "\n",
        "    avg_price_rides=top_50_rides['total_amount'].mean()\n",
        "\n",
        "    #Write your code below\n",
        "    return avg_price_rides\n",
        "\n",
        "\n",
        "get_average_cost_ans=get_average_cost_descending_sort(taxi_df)\n",
        "print(get_average_cost_ans)\n",
        "get_avg_price_top50_ans=get_price_top50_rides(taxi_df)\n",
        "print(get_avg_price_top50_ans)\n",
        "\n"
      ]
    },
    {
      "cell_type": "markdown",
      "metadata": {
        "id": "oh9k5Rb7RtwZ"
      },
      "source": [
        "#### Task 1.3 - The goal of this exercise is to group the data according to the below conditions\n",
        "1. Load taxi data from January 2019 into a data frame using only the columns passenger_count, trip_distance, and total_amount.\n",
        "2. For each number of passengers, find the mean cost of a taxi ride. Sort this result from lowest (i.e., cheapest) to highest (i.e., most expensive). Return the topmost value (use .head(1))\n",
        "Sort the results again by increasing the number of passengers. Return the topmost value (use .head(1))\n",
        "3. Create a new column, trip_distance_group, in which the values are short (< 2\n",
        "miles), medium (>= 2 miles and <= 10 miles), and long (> 10 miles). What is the\n",
        "average number of passengers per trip length category? Sort this result from\n",
        "highest (most passengers) to lowest (fewest passengers)."
      ]
    },
    {
      "cell_type": "code",
      "execution_count": 43,
      "metadata": {
        "id": "Ma_toY6FRtwZ",
        "colab": {
          "base_uri": "https://localhost:8080/"
        },
        "outputId": "46189e92-097f-4563-fa3b-cbd3e641b90f"
      },
      "outputs": [
        {
          "output_type": "stream",
          "name": "stdout",
          "text": [
            "  trip_distance_group  passenger_count\n",
            "1              medium         1.791937\n",
            "0               short         1.747479\n",
            "2                long         1.735562\n"
          ]
        },
        {
          "output_type": "stream",
          "name": "stderr",
          "text": [
            "<ipython-input-43-6f2a814c2aad>:58: FutureWarning: The default of observed=False is deprecated and will be changed to True in a future version of pandas. Pass observed=False to retain current behavior or observed=True to adopt the future default and silence this warning.\n",
            "  average_passengers_per_category = taxi_df.groupby('trip_distance_group')['passenger_count'].mean().reset_index()\n"
          ]
        }
      ],
      "source": [
        "import pandas as pd\n",
        "import numpy as np\n",
        "\n",
        "filename='https://raw.githubusercontent.com/emharsha1812/CCE_Assignment/refs/heads/main/Assignments/Assignment1/dataset/nyc_taxidataset.csv'\n",
        "taxi_df = pd.read_csv(filename,usecols=['passenger_count','trip_distance','total_amount'])\n",
        "\n",
        "def get_mean_cost(df):\n",
        "    \"\"\"Parameters\n",
        "    df - Dataframe\n",
        "\n",
        "    Returns\n",
        "    mean_cost : int\"\"\"\n",
        "\n",
        "    mean_cost = taxi_df.groupby('passenger_count')['total_amount'].mean().reset_index()\n",
        "\n",
        "    #Write your code below\n",
        "\n",
        "\n",
        "    #mean_cost=None\n",
        "    return mean_cost\n",
        "\n",
        "\n",
        "def get_lowest_average_fare(df):\n",
        "    \"\"\"\n",
        "    Find the passenger count with the lowest average total fare.\n",
        "\n",
        "    Args:\n",
        "    df (pandas.DataFrame): A DataFrame containing 'passenger_count' and 'total_amount' columns.\n",
        "\n",
        "    Returns:\n",
        "    pandas.Series: A Series with one row, containing the passenger count with the lowest average fare.\n",
        "\n",
        "    \"\"\"\n",
        "    cheapest_ride = df.sort_values(by='total_amount', ascending=True).head(1)\n",
        "    sorted_by_passengers = df.sort_values(by='passenger_count', ascending=True).head(1)\n",
        "    #print (cheapest_ride)\n",
        "    #print (sorted_by_passengers)\n",
        "    return cheapest_ride,sorted_by_passengers\n",
        "    #pass\n",
        "\n",
        "\n",
        "def get_trip_length_category(df):\n",
        "    \"\"\"\n",
        "    Find the average number of passengers per trip length category\n",
        "\n",
        "    Args:\n",
        "    df (pandas.DataFrame): A DataFrame containing 'passenger_count' and 'total_amount' columns.\n",
        "\n",
        "    Returns:\n",
        "    pandas.Series: A Series with three rows. displaying values of trip distance (short, medium, long).\n",
        "    \"\"\"\n",
        "\n",
        "    taxi_df['trip_distance_group'] = pd.cut(\n",
        "    taxi_df['trip_distance'],\n",
        "    bins=[-float('inf'), 2, 10, float('inf')],\n",
        "    labels=['short', 'medium', 'long']\n",
        ")\n",
        "    average_passengers_per_category = taxi_df.groupby('trip_distance_group')['passenger_count'].mean().reset_index()\n",
        "    average_passengers_per_category = average_passengers_per_category.sort_values(by='passenger_count', ascending=False)\n",
        "    return average_passengers_per_category\n",
        "    #pass\n",
        "\n",
        "mean_cost_ans=get_mean_cost(taxi_df)\n",
        "#print(mean_cost_ans)\n",
        "lowest_average_fare_ans=get_lowest_average_fare(mean_cost_ans)\n",
        "#print(lowest_average_fare_ans)\n",
        "trip_length_category_ans=get_trip_length_category(taxi_df)\n",
        "print(trip_length_category_ans)\n"
      ]
    }
  ],
  "metadata": {
    "kernelspec": {
      "display_name": "Python 3",
      "language": "python",
      "name": "python3"
    },
    "language_info": {
      "codemirror_mode": {
        "name": "ipython",
        "version": 3
      },
      "file_extension": ".py",
      "mimetype": "text/x-python",
      "name": "python",
      "nbconvert_exporter": "python",
      "pygments_lexer": "ipython3",
      "version": "3.10.12"
    },
    "colab": {
      "provenance": [],
      "include_colab_link": true
    }
  },
  "nbformat": 4,
  "nbformat_minor": 0
}